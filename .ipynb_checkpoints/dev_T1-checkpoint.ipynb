{
 "cells": [
  {
   "cell_type": "code",
   "execution_count": 6,
   "metadata": {
    "collapsed": false
   },
   "outputs": [],
   "source": [
    "import numpy as np\n",
    "import matplotlib.pyplot as plt\n",
    "%matplotlib inline\n",
    "from Quantitative_MRI import T1\n",
    "import importlib; importlib.reload(T1);"
   ]
  },
  {
   "cell_type": "code",
   "execution_count": null,
   "metadata": {
    "collapsed": false
   },
   "outputs": [],
   "source": [
    "tr = np.linspace(0,10,20)\n",
    "t1 = 2.1\n",
    "Mz = 1.0\n",
    "s = T1.T1rec(tr,t1,Mz, noise = .005)\n",
    "pars_pred, spred = T1._fit(tr,s)\n",
    "plt.plot(tr,s,'o',tr,spred,'--')\n",
    "print(pars_pred)"
   ]
  },
  {
   "cell_type": "code",
   "execution_count": 7,
   "metadata": {
    "collapsed": false
   },
   "outputs": [],
   "source": [
    "from Quantitative_MRI.T1 import T1_vtr_signal as T1sig"
   ]
  },
  {
   "cell_type": "code",
   "execution_count": null,
   "metadata": {
    "collapsed": false
   },
   "outputs": [],
   "source": [
    "T1sig = signal(tr,s)\n",
    "T1sig.add_noise(1)"
   ]
  },
  {
   "cell_type": "code",
   "execution_count": null,
   "metadata": {
    "collapsed": false
   },
   "outputs": [],
   "source": [
    "print(T1sig.add_noise(1))"
   ]
  },
  {
   "cell_type": "code",
   "execution_count": null,
   "metadata": {
    "collapsed": false
   },
   "outputs": [],
   "source": [
    "print(res)"
   ]
  },
  {
   "cell_type": "code",
   "execution_count": null,
   "metadata": {
    "collapsed": false
   },
   "outputs": [],
   "source": []
  },
  {
   "cell_type": "code",
   "execution_count": null,
   "metadata": {
    "collapsed": true
   },
   "outputs": [],
   "source": [
    "class signal(object):\n",
    "    \"\"\"\n",
    "    T1 vTR signal class, with the following attributes:\n",
    "    ---------------------------------------------------\n",
    "    x: float, ndarray\n",
    "        Repetition time in seconds (xdata)\n",
    "    y: float, ndarray\n",
    "        observed/simulated signal\n",
    "    yhat: float, ndarray\n",
    "        clean/fitted signal \n",
    "    T1 = estimated T1\n",
    "    Mz = estimated Mz\n",
    "    \n",
    "    \"\"\"\n",
    "    def __init__(x, y):\n",
    "        self.x = x\n",
    "        self.y = y\n",
    "        self.T1 = 0.0\n",
    "        self.Mz = 0.0\n",
    "        seff.yhat = np.zeros_like(y)\n",
    "        self.balance = balance\n"
   ]
  },
  {
   "cell_type": "code",
   "execution_count": null,
   "metadata": {
    "collapsed": false
   },
   "outputs": [],
   "source": [
    "np.random.randn(1,1).shape"
   ]
  },
  {
   "cell_type": "code",
   "execution_count": null,
   "metadata": {
    "collapsed": true
   },
   "outputs": [],
   "source": []
  }
 ],
 "metadata": {
  "anaconda-cloud": {},
  "kernelspec": {
   "display_name": "Python [conda root]",
   "language": "python",
   "name": "conda-root-py"
  },
  "language_info": {
   "codemirror_mode": {
    "name": "ipython",
    "version": 3
   },
   "file_extension": ".py",
   "mimetype": "text/x-python",
   "name": "python",
   "nbconvert_exporter": "python",
   "pygments_lexer": "ipython3",
   "version": "3.5.2"
  }
 },
 "nbformat": 4,
 "nbformat_minor": 2
}
