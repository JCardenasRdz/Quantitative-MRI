{
 "cells": [
  {
   "cell_type": "code",
   "execution_count": 4,
   "metadata": {
    "collapsed": false
   },
   "outputs": [],
   "source": [
    "# Load module and reload it if it was modified during development\n",
    "from Quantitative_MRI import models;\n",
    "import importlib; importlib.reload(models);"
   ]
  },
  {
   "cell_type": "code",
   "execution_count": 6,
   "metadata": {
    "collapsed": false
   },
   "outputs": [],
   "source": [
    "import numpy as np\n",
    "from matplotlib.pyplot import plot as plot\n",
    "%matplotlib inline"
   ]
  },
  {
   "cell_type": "code",
   "execution_count": 8,
   "metadata": {
    "collapsed": false
   },
   "outputs": [
    {
     "data": {
      "image/png": "[encoded data removed]",
      "text/plain": [
       "<matplotlib.figure.Figure at 0x10fd48748>"
      ]
     },
     "metadata": {},
     "output_type": "display_data"
    }
   ],
   "source": [
    "TR_ = np.linspace(0,10,101)\n",
    "p = [3,10]; \n",
    "S = models.T1_vTR(TR_,*p) ; plot(TR_,S);"
   ]
  },
  {
   "cell_type": "code",
   "execution_count": 11,
   "metadata": {
    "collapsed": false
   },
   "outputs": [
    {
     "data": {
      "text/plain": [
       "array([ 0.        ,  0.23267641,  0.4636609 ,  0.69244404,  0.91858686,\n",
       "        1.14171341,  1.36150411,  1.57768964,  1.79004558,  1.99838745,\n",
       "        2.20256634,  2.40246488,  2.59799375,  2.78908838,  2.97570611,\n",
       "        3.15782356,  3.33543432,  3.50854684,  3.67718253,  3.84137411,\n",
       "        4.00116409,  4.15660339,  4.30775015,  4.45466864,  4.59742831,\n",
       "        4.73610291,  4.87076973,  5.00150892,  5.12840285,  5.25153565,\n",
       "        5.37099266,  5.48686002,  5.59922434,  5.70817233,  5.81379055,\n",
       "        5.91616514,  6.0153816 ,  6.11152462,  6.20467788,  6.29492398,\n",
       "        6.38234426,  6.46701872,  6.54902594,  6.62844302,  6.70534552,\n",
       "        6.7798074 ,  6.851901  ,  6.92169704,  6.98926457,  7.05467095,\n",
       "        7.11798192,  7.17926151,  7.23857211,  7.29597447,  7.3515277 ,\n",
       "        7.40528931,  7.45731522,  7.50765977,  7.55637579,  7.60351456,\n",
       "        7.64912592,  7.69325822,  7.7359584 ,  7.77727202,  7.81724327,\n",
       "        7.855915  ,  7.89332878,  7.92952492,  7.96454249,  7.99841935,\n",
       "        8.0311922 ,  8.06289662,  8.09356705,  8.12323689,  8.15193846,\n",
       "        8.1797031 ,  8.20656113,  8.23254193,  8.25767395,  8.28198474,\n",
       "        8.30550095,  8.32824841,  8.35025211,  8.37153625,  8.39212424,\n",
       "        8.41203875,  8.43130172,  8.44993439,  8.46795729,  8.48539032,\n",
       "        8.50225273,  8.51856312,  8.53433954,  8.5495994 ,  8.56435959,\n",
       "        8.57863642,  8.59244569,  8.60580268,  8.61872219,  8.6312185 ,\n",
       "        8.64330547])"
      ]
     },
     "execution_count": 11,
     "metadata": {},
     "output_type": "execute_result"
    }
   ],
   "source": [
    "models.residuals(np.array([1,1]),TR_, models.T1_vTR, S )"
   ]
  },
  {
   "cell_type": "code",
   "execution_count": null,
   "metadata": {
    "collapsed": true
   },
   "outputs": [],
   "source": [
    "from scipy.optimize import least_squares as lsq\n",
    "x0 = np.array([1,1])"
   ]
  },
  {
   "cell_type": "code",
   "execution_count": null,
   "metadata": {
    "collapsed": false
   },
   "outputs": [],
   "source": [
    "R = lsq(models.residuals, x0, args=(TR_, models.T1_vTR, S))"
   ]
  },
  {
   "cell_type": "code",
   "execution_count": null,
   "metadata": {
    "collapsed": false
   },
   "outputs": [],
   "source": [
    "z = [1,2,3,4,5,6]\n",
    "z = tuple(z)\n",
    "type(z)"
   ]
  },
  {
   "cell_type": "code",
   "execution_count": null,
   "metadata": {
    "collapsed": false
   },
   "outputs": [],
   "source": [
    "z[0:5:2]"
   ]
  },
  {
   "cell_type": "code",
   "execution_count": null,
   "metadata": {
    "collapsed": true
   },
   "outputs": [],
   "source": []
  }
 ],
 "metadata": {
  "kernelspec": {
   "display_name": "Python [conda root]",
   "language": "python",
   "name": "conda-root-py"
  },
  "language_info": {
   "codemirror_mode": {
    "name": "ipython",
    "version": 3
   },
   "file_extension": ".py",
   "mimetype": "text/x-python",
   "name": "python",
   "nbconvert_exporter": "python",
   "pygments_lexer": "ipython3",
   "version": "3.5.2"
  }
 },
 "nbformat": 4,
 "nbformat_minor": 2
}
